{
 "cells": [
  {
   "cell_type": "code",
   "execution_count": 1,
   "id": "06bd6a68-379b-4662-bedb-153fc31f435e",
   "metadata": {},
   "outputs": [],
   "source": [
    "import numpy as np\n",
    "import pandas as pd\n",
    "from sklearn.model_selection import train_test_split\n",
    "from sklearn.model_selection import GridSearchCV\n",
    "from math import sqrt\n",
    "\n",
    "from sklearn.metrics import mean_absolute_error\n",
    "from sklearn.metrics import mean_squared_error\n",
    "from sklearn.metrics import r2_score\n",
    "from sklearn.metrics import accuracy_score\n",
    "\n",
    "from sklearn.preprocessing import StandardScaler\n",
    "from sklearn.preprocessing import MinMaxScaler\n",
    "\n",
    "from xgboost import XGBRegressor\n",
    "from sklearn.linear_model import LinearRegression\n",
    "from sklearn.ensemble import RandomForestRegressor\n",
    "import lightgbm as lgb\n",
    "from sklearn.tree import DecisionTreeRegressor\n",
    "from sklearn.ensemble import GradientBoostingRegressor\n",
    "from sklearn.svm import SVR\n",
    "from sklearn.preprocessing import RobustScaler"
   ]
  },
  {
   "cell_type": "code",
   "execution_count": 2,
   "id": "913eed12-1c1a-4e3e-8e47-21ad01229483",
   "metadata": {},
   "outputs": [],
   "source": [
    "train = pd.read_csv('train.csv')"
   ]
  },
  {
   "cell_type": "code",
   "execution_count": 14,
   "id": "aea81d84-a573-4290-827a-1090f7edf66e",
   "metadata": {},
   "outputs": [],
   "source": [
    "test = pd.read_csv('test.csv')"
   ]
  },
  {
   "cell_type": "code",
   "execution_count": 4,
   "id": "526fb359-5195-46bc-9984-b55018ffa877",
   "metadata": {},
   "outputs": [],
   "source": [
    "train['address'] = train.city + ' ' + train.dong + ' ' + train.jibun"
   ]
  },
  {
   "cell_type": "code",
   "execution_count": 16,
   "id": "9cf6245c-2cd5-4e7b-9547-81741dcc1c22",
   "metadata": {},
   "outputs": [],
   "source": [
    "test['address'] = test.city + ' ' + test.dong + ' ' + test.jibun"
   ]
  },
  {
   "cell_type": "code",
   "execution_count": 10,
   "id": "7c158004-122b-4486-b262-93071c4f3361",
   "metadata": {},
   "outputs": [],
   "source": [
    "train_unique = pd.DataFrame(train.address.unique())"
   ]
  },
  {
   "cell_type": "code",
   "execution_count": 17,
   "id": "316aa736-6b48-4e6d-baa2-5befc0d11311",
   "metadata": {},
   "outputs": [],
   "source": [
    "test_unique = pd.DataFrame(test.address.unique())"
   ]
  },
  {
   "cell_type": "code",
   "execution_count": 12,
   "id": "ebc51dd6-e509-40fc-bb70-dd6f71037506",
   "metadata": {},
   "outputs": [],
   "source": [
    "train_unique.to_excel('train_unique.xlsx',index=False)"
   ]
  },
  {
   "cell_type": "code",
   "execution_count": 18,
   "id": "dea46499-68f5-42a8-89fd-1999ad9eecac",
   "metadata": {},
   "outputs": [],
   "source": [
    "test_unique.to_excel('test_unique.xlsx',index=False)"
   ]
  },
  {
   "cell_type": "code",
   "execution_count": 19,
   "id": "7c090409-c1ce-4211-84ef-23b86ab8b9fe",
   "metadata": {},
   "outputs": [],
   "source": [
    "# 가장 가까운 시설까지의 거리 및 주변 1km내 시설 수 count하는 함수 \n",
    "def min_dist(a,b):\n",
    "    dist = []\n",
    "    dist_range = []\n",
    "    dist_num = []\n",
    "    for k in range(len(a)):\n",
    "        dist_range=[]\n",
    "        location = (a.위도[k],a.경도[k])\n",
    "        dis = [geopy.distance.geodesic((i,j),location).km for i,j in list(zip(b.위도,b.경도))]\n",
    "        min_dist = min(dis)\n",
    "        dist.append(min_dist)\n",
    "        for z in range(len(dis)):\n",
    "            if dis[z] <= 1:\n",
    "                dist_range.append(dis[z])\n",
    "        num = len(dist_range)\n",
    "        dist_num.append(num)\n",
    "    return dist,dist_num"
   ]
  },
  {
   "cell_type": "code",
   "execution_count": 41,
   "id": "d3bf6be9-491b-4a19-9a08-15ef9e95842e",
   "metadata": {},
   "outputs": [],
   "source": [
    "sub_b = pd.read_csv('busan_sub.csv',encoding='cp949')"
   ]
  },
  {
   "cell_type": "code",
   "execution_count": 48,
   "id": "94cb2fa0-48a0-4ad3-b981-cf8e5d476a87",
   "metadata": {},
   "outputs": [],
   "source": [
    "sub_s = pd.read_excel('seoul_sub.xlsx')"
   ]
  },
  {
   "cell_type": "code",
   "execution_count": 55,
   "id": "83770b3d-9efb-4345-820f-fb98f3ead7fa",
   "metadata": {},
   "outputs": [],
   "source": [
    "sub_b.columns=['역번호','역사명','노선명','위도','경도']"
   ]
  },
  {
   "cell_type": "code",
   "execution_count": 56,
   "id": "96445131-b91e-44f2-8ff3-8b010c64794c",
   "metadata": {},
   "outputs": [],
   "source": [
    "sub = pd.concat([sub_s,sub_b])"
   ]
  },
  {
   "cell_type": "code",
   "execution_count": 59,
   "id": "08df2651-aaa4-4d3c-b1c2-f0146b44a857",
   "metadata": {},
   "outputs": [],
   "source": [
    "sub.to_csv('sub_lon_lat.csv',index=False) ### 서울, 부산 지하철의 위,경도 데이터"
   ]
  },
  {
   "cell_type": "code",
   "execution_count": 23,
   "id": "cd21c718-19ca-4004-8b15-171c138fb1d4",
   "metadata": {},
   "outputs": [],
   "source": [
    "dist = pd.read_csv('traindata/dist_num.csv')"
   ]
  },
  {
   "cell_type": "code",
   "execution_count": 25,
   "id": "07747c5f-372e-4c23-98f5-dac9ce7cf781",
   "metadata": {},
   "outputs": [],
   "source": [
    "dist.drop('Unnamed: 0',axis=1,inplace=True)"
   ]
  },
  {
   "cell_type": "code",
   "execution_count": 27,
   "id": "df6cf7c7-ce02-4de2-bcc0-c604f71b58b7",
   "metadata": {},
   "outputs": [
    {
     "data": {
      "text/html": [
       "<div>\n",
       "<style scoped>\n",
       "    .dataframe tbody tr th:only-of-type {\n",
       "        vertical-align: middle;\n",
       "    }\n",
       "\n",
       "    .dataframe tbody tr th {\n",
       "        vertical-align: top;\n",
       "    }\n",
       "\n",
       "    .dataframe thead th {\n",
       "        text-align: right;\n",
       "    }\n",
       "</style>\n",
       "<table border=\"1\" class=\"dataframe\">\n",
       "  <thead>\n",
       "    <tr style=\"text-align: right;\">\n",
       "      <th></th>\n",
       "      <th>high_dist</th>\n",
       "      <th>high_num</th>\n",
       "      <th>middle_dist</th>\n",
       "      <th>middle_num</th>\n",
       "      <th>elementary_dist</th>\n",
       "      <th>elementary_num</th>\n",
       "      <th>sub_b_dist</th>\n",
       "      <th>sub_b_num</th>\n",
       "      <th>sub_s_dist</th>\n",
       "      <th>sub_s_num</th>\n",
       "      <th>park_dist</th>\n",
       "      <th>park_num</th>\n",
       "    </tr>\n",
       "  </thead>\n",
       "  <tbody>\n",
       "    <tr>\n",
       "      <th>0</th>\n",
       "      <td>0.527809</td>\n",
       "      <td>3</td>\n",
       "      <td>0.466106</td>\n",
       "      <td>2</td>\n",
       "      <td>0.694653</td>\n",
       "      <td>1</td>\n",
       "      <td>308.267115</td>\n",
       "      <td>0</td>\n",
       "      <td>0.970273</td>\n",
       "      <td>0</td>\n",
       "      <td>0.374601</td>\n",
       "      <td>4</td>\n",
       "    </tr>\n",
       "    <tr>\n",
       "      <th>1</th>\n",
       "      <td>0.312321</td>\n",
       "      <td>2</td>\n",
       "      <td>0.412396</td>\n",
       "      <td>2</td>\n",
       "      <td>0.244816</td>\n",
       "      <td>3</td>\n",
       "      <td>307.533365</td>\n",
       "      <td>0</td>\n",
       "      <td>0.333051</td>\n",
       "      <td>1</td>\n",
       "      <td>0.098140</td>\n",
       "      <td>17</td>\n",
       "    </tr>\n",
       "    <tr>\n",
       "      <th>2</th>\n",
       "      <td>0.248889</td>\n",
       "      <td>2</td>\n",
       "      <td>0.289687</td>\n",
       "      <td>2</td>\n",
       "      <td>0.268977</td>\n",
       "      <td>2</td>\n",
       "      <td>307.690284</td>\n",
       "      <td>0</td>\n",
       "      <td>0.398597</td>\n",
       "      <td>1</td>\n",
       "      <td>0.253866</td>\n",
       "      <td>14</td>\n",
       "    </tr>\n",
       "  </tbody>\n",
       "</table>\n",
       "</div>"
      ],
      "text/plain": [
       "   high_dist  high_num  middle_dist  middle_num  elementary_dist  \\\n",
       "0   0.527809         3     0.466106           2         0.694653   \n",
       "1   0.312321         2     0.412396           2         0.244816   \n",
       "2   0.248889         2     0.289687           2         0.268977   \n",
       "\n",
       "   elementary_num  sub_b_dist  sub_b_num  sub_s_dist  sub_s_num  park_dist  \\\n",
       "0               1  308.267115          0    0.970273          0   0.374601   \n",
       "1               3  307.533365          0    0.333051          1   0.098140   \n",
       "2               2  307.690284          0    0.398597          1   0.253866   \n",
       "\n",
       "   park_num  \n",
       "0         4  \n",
       "1        17  \n",
       "2        14  "
      ]
     },
     "execution_count": 27,
     "metadata": {},
     "output_type": "execute_result"
    }
   ],
   "source": [
    "dist.head(3)"
   ]
  },
  {
   "cell_type": "code",
   "execution_count": 29,
   "id": "916bc5e5-2d04-4efe-82ae-d5c6aa3cd8e9",
   "metadata": {},
   "outputs": [],
   "source": [
    "dist_test = pd.read_csv('testdata/dist.csv')"
   ]
  },
  {
   "cell_type": "code",
   "execution_count": 31,
   "id": "be5e0581-9753-41ab-8626-23a8b3068fc8",
   "metadata": {},
   "outputs": [],
   "source": [
    "dist_test.columns=['sub_dist','sub_num','high_dist','high_num','elem_dist','elem_num','middle_dist','middle_num','park_dist','park_num']"
   ]
  },
  {
   "cell_type": "code",
   "execution_count": 62,
   "id": "7b19e9aa-3915-4418-bd2b-aae754d95f9f",
   "metadata": {},
   "outputs": [],
   "source": [
    "train_dist = pd.concat([train_unique,dist],axis=1)"
   ]
  },
  {
   "cell_type": "code",
   "execution_count": 89,
   "id": "9d02d0db-9b82-49f8-b200-0c85060e5847",
   "metadata": {},
   "outputs": [],
   "source": [
    "data['popular'] = 0"
   ]
  },
  {
   "cell_type": "code",
   "execution_count": 90,
   "id": "44e6a8de-f09f-4382-a956-37a5a84362e0",
   "metadata": {
    "tags": []
   },
   "outputs": [],
   "source": [
    "data.loc[(data.apt == '현대') | (data.apt == '한신') | (data.apt == '삼성') | (data.apt == '대우') | (data.apt == '신동아') | (data.apt == '두산') | (data.apt == '주공2') | \\\n",
    "               (data.apt == '삼성래미안') | (data.apt == '우성') | (data.apt == '벽산'), ['popular']] = 1"
   ]
  },
  {
   "cell_type": "code",
   "execution_count": 11,
   "id": "80e615c9",
   "metadata": {},
   "outputs": [],
   "source": [
    "# 거래 년도/월/일 변수 생성\n",
    "year = [str(i)[:4] for i in train['transaction_year_month'].tolist()]\n",
    "month = [str(i)[4:] for i in train['transaction_year_month'].tolist()]\n",
    "day = train[\"transaction_date\"].str.split(\"~\").str.get(0).tolist()"
   ]
  },
  {
   "cell_type": "code",
   "execution_count": 12,
   "id": "f87695bd",
   "metadata": {},
   "outputs": [],
   "source": [
    "train['year'] = year\n",
    "train['month'] = month\n",
    "train['day'] = day"
   ]
  },
  {
   "cell_type": "code",
   "execution_count": 13,
   "id": "d77aad3c",
   "metadata": {},
   "outputs": [],
   "source": [
    "# 거래일자(데이터타입: DateTime), 아파트 연식 변수 추가\n",
    "train['DateTime'] = pd.to_datetime(train['year'] + '-' + train['month'] + '-' + train['day'])\n",
    "train['years'] = train['year'].astype('int') - train['year_of_completion']"
   ]
  },
  {
   "cell_type": "code",
   "execution_count": 14,
   "id": "fcf97472",
   "metadata": {},
   "outputs": [],
   "source": [
    "# floor 음수값 제거\n",
    "train = train.loc[train['floor'] > 0].reset_index(drop = True)"
   ]
  },
  {
   "cell_type": "code",
   "execution_count": 15,
   "id": "65b04c10",
   "metadata": {},
   "outputs": [],
   "source": [
    "for i in range(train.shape[0] - train_final.shape[0]):\n",
    "    train_floor = train['floor'].tolist()\n",
    "    final_floor = train_final['floor'].tolist()\n",
    "\n",
    "    for index, num in enumerate(train_floor):\n",
    "        if num != final_floor[index]:\n",
    "            # print(num) # 확인용\n",
    "            delete_index = index\n",
    "            break\n",
    "\n",
    "    # 삭제 코드\n",
    "    train = train.drop([delete_index]).reset_index(drop = True)"
   ]
  },
  {
   "cell_type": "code",
   "execution_count": 26,
   "id": "5c4c1029",
   "metadata": {},
   "outputs": [],
   "source": [
    "def find_word(text, words_list):\n",
    "    for i in words_list:\n",
    "        if text.find(i) == -1:\n",
    "            continue\n",
    "        else:\n",
    "            return True"
   ]
  },
  {
   "cell_type": "code",
   "execution_count": 27,
   "id": "9150740a",
   "metadata": {},
   "outputs": [],
   "source": [
    "apt_top10 = ['힐스테이트','자이','롯데캐슬','더샵','푸르지오',\n",
    "             '래미안','아이파크','IPARK','SK뷰','VIEW','이편한세상','e편한세상','플레티넘','플래티넘',\n",
    "             '호반베르디움','스타힐스','한라비발디']\n",
    "\n",
    "apt_list = []\n",
    "\n",
    "for apt in train['apt']:\n",
    "    if find_word(apt,apt_top10) == True:\n",
    "        apt_list.append(True)\n",
    "    else:\n",
    "        apt_list.append(False)"
   ]
  },
  {
   "cell_type": "code",
   "execution_count": 28,
   "id": "1d2b1fe1",
   "metadata": {},
   "outputs": [],
   "source": [
    "train['brand_apt'] = apt_list"
   ]
  },
  {
   "cell_type": "code",
   "execution_count": null,
   "id": "9cfbfe41",
   "metadata": {},
   "outputs": [],
   "source": []
  },
  {
   "cell_type": "code",
   "execution_count": 16,
   "id": "1794412a",
   "metadata": {},
   "outputs": [],
   "source": [
    "# train 데이터의 정보 더 가지고 오기\n",
    "train_more_info = train[['apt','dong','gu','DateTime','year_of_completion']]"
   ]
  },
  {
   "cell_type": "code",
   "execution_count": 17,
   "id": "21d82bcb",
   "metadata": {},
   "outputs": [
    {
     "data": {
      "text/plain": [
       "(1216374, 5)"
      ]
     },
     "execution_count": 17,
     "metadata": {},
     "output_type": "execute_result"
    }
   ],
   "source": [
    "train_more_info.shape"
   ]
  },
  {
   "cell_type": "code",
   "execution_count": 18,
   "id": "8ba26974",
   "metadata": {},
   "outputs": [
    {
     "data": {
      "text/plain": [
       "(1216374, 17)"
      ]
     },
     "execution_count": 18,
     "metadata": {},
     "output_type": "execute_result"
    }
   ],
   "source": [
    "train_final.shape"
   ]
  },
  {
   "cell_type": "code",
   "execution_count": 19,
   "id": "1b8f7fc5",
   "metadata": {},
   "outputs": [],
   "source": [
    "train = pd.concat([train_more_info, train_final], axis = 1)"
   ]
  },
  {
   "cell_type": "code",
   "execution_count": 20,
   "id": "357ca284",
   "metadata": {},
   "outputs": [],
   "source": [
    "graph_df = train[['DateTime','transaction_real_price']]\n",
    "graph_df['year'] = [i.year for i in train['DateTime']]"
   ]
  },
  {
   "cell_type": "code",
   "execution_count": 21,
   "id": "84887a1b",
   "metadata": {},
   "outputs": [],
   "source": [
    "graph_df = graph_df.groupby(by = ['DateTime']).mean()"
   ]
  },
  {
   "cell_type": "code",
   "execution_count": 22,
   "id": "a6c7fb47",
   "metadata": {},
   "outputs": [
    {
     "data": {
      "image/png": "[encoded data removed]",
      "text/plain": [
       "<Figure size 432x288 with 1 Axes>"
      ]
     },
     "metadata": {
      "needs_background": "light"
     },
     "output_type": "display_data"
    }
   ],
   "source": [
    "plt.plot(graph_df['transaction_real_price'])\n",
    "plt.show()"
   ]
  },
  {
   "cell_type": "code",
   "execution_count": 23,
   "id": "65c34075",
   "metadata": {
    "scrolled": true
   },
   "outputs": [
    {
     "data": {
      "image/png": "[encoded data removed]",
      "text/plain": [
       "<Figure size 1080x720 with 10 Axes>"
      ]
     },
     "metadata": {
      "needs_background": "light"
     },
     "output_type": "display_data"
    }
   ],
   "source": [
    "# 연별 시계열 그래프\n",
    "\n",
    "plt.figure(figsize = (15,10))\n",
    "\n",
    "plt.subplot(5,2,1)\n",
    "plt.plot(graph_df.loc[graph_df['year'] == 2008, 'transaction_real_price'])\n",
    "plt.title('2008 Transaction Price')\n",
    "plt.xticks([])\n",
    "\n",
    "plt.subplot(5,2,3)\n",
    "plt.plot(graph_df.loc[graph_df['year'] == 2009, 'transaction_real_price'])\n",
    "plt.title('2009 Transaction Price')\n",
    "plt.xticks([]) \n",
    "\n",
    "plt.subplot(5,2,5)\n",
    "plt.plot(graph_df.loc[graph_df['year'] == 2010, 'transaction_real_price'])\n",
    "plt.title('2010 Transaction Price')\n",
    "plt.xticks([]) \n",
    "\n",
    "plt.subplot(5,2,7)\n",
    "plt.plot(graph_df.loc[graph_df['year'] == 2011, 'transaction_real_price'])\n",
    "plt.title('2011 Transaction Price')\n",
    "plt.xticks([]) \n",
    "\n",
    "plt.subplot(5,2,9)\n",
    "plt.plot(graph_df.loc[graph_df['year'] == 2012, 'transaction_real_price'])\n",
    "plt.title('2012 Transaction Price') \n",
    "plt.xticks([]) \n",
    "\n",
    "plt.subplot(5,2,2)\n",
    "plt.plot(graph_df.loc[graph_df['year'] == 2013, 'transaction_real_price'])\n",
    "plt.title('2013 Transaction Price')\n",
    "plt.xticks([]) \n",
    "\n",
    "plt.subplot(5,2,4)\n",
    "plt.plot(graph_df.loc[graph_df['year'] == 2014, 'transaction_real_price'])\n",
    "plt.title('2014 Transaction Price')\n",
    "plt.xticks([]) \n",
    "\n",
    "plt.subplot(5,2,6)\n",
    "plt.plot(graph_df.loc[graph_df['year'] == 2015, 'transaction_real_price'])\n",
    "plt.title('2015 Transaction Price')\n",
    "plt.xticks([]) \n",
    "\n",
    "plt.subplot(5,2,8)\n",
    "plt.plot(graph_df.loc[graph_df['year'] == 2016, 'transaction_real_price'])\n",
    "plt.title('2016 Transaction Price')\n",
    "plt.xticks([]) \n",
    "\n",
    "plt.subplot(5,2,10)\n",
    "plt.plot(graph_df.loc[graph_df['year'] == 2017, 'transaction_real_price'])\n",
    "plt.title('2017 Transaction Price')\n",
    "plt.xticks([]) \n",
    "\n",
    "plt.show()"
   ]
  },
  {
   "cell_type": "code",
   "execution_count": 92,
   "id": "6cd6268e-8a5c-4d6c-8d61-dd0ceebbfd51",
   "metadata": {
    "scrolled": true
   },
   "outputs": [
    {
     "data": {
      "text/plain": [
       "array([0, 1], dtype=int64)"
      ]
     },
     "execution_count": 92,
     "metadata": {},
     "output_type": "execute_result"
    }
   ],
   "source": []
  },
  {
   "cell_type": "code",
   "execution_count": 93,
   "id": "f711a5c9-5df0-4eaa-abb8-6416ae4fc6a4",
   "metadata": {},
   "outputs": [],
   "source": [
    "data = pd.get_dummies(data,columns=['city'])"
   ]
  },
  {
   "cell_type": "code",
   "execution_count": 110,
   "id": "73dfc932-2d88-4e8a-80aa-4c7df9340a08",
   "metadata": {},
   "outputs": [],
   "source": [
    "data.transaction_year_month=data.transaction_year_month.astype('int64')"
   ]
  },
  {
   "cell_type": "code",
   "execution_count": 109,
   "id": "8dd8c1f0-20d9-4c4f-a98e-900dd47f309c",
   "metadata": {},
   "outputs": [],
   "source": [
    "data.transaction_year_month = data.transaction_year_month.apply(lambda x:x[:4])"
   ]
  },
  {
   "cell_type": "code",
   "execution_count": 111,
   "id": "7e150993-8c02-42a8-955e-749007ac6b96",
   "metadata": {},
   "outputs": [],
   "source": [
    "data['years'] = data.transaction_year_month - data.year_of_completion"
   ]
  },
  {
   "cell_type": "code",
   "execution_count": 114,
   "id": "a7c69974-b81d-4d07-a218-10c1b34c7d81",
   "metadata": {},
   "outputs": [],
   "source": [
    "data.drop(['transaction_id','apartment_id','dong','jibun','apt','addr_kr','address','위도','경도'],axis=1,inplace=True)"
   ]
  },
  {
   "cell_type": "code",
   "execution_count": 65,
   "id": "b4c43692-4cbb-4afc-a34a-de838564d7d5",
   "metadata": {},
   "outputs": [],
   "source": [
    "train = pd.read_csv('train_final.csv')"
   ]
  },
  {
   "cell_type": "code",
   "execution_count": 67,
   "id": "a762b172-fac4-4653-b5a4-d116652e97a5",
   "metadata": {},
   "outputs": [],
   "source": [
    "test = pd.read_csv('testdata/test_final.csv')"
   ]
  },
  {
   "cell_type": "code",
   "execution_count": 5,
   "id": "a077e590-03c2-4c93-9190-9312b29e7918",
   "metadata": {},
   "outputs": [],
   "source": [
    "X = train.drop(['transaction_real_price'],axis=1)\n",
    "y = train['transaction_real_price']"
   ]
  },
  {
   "cell_type": "code",
   "execution_count": 6,
   "id": "d3690dbe-d672-4f22-bf6d-c7517350cafb",
   "metadata": {},
   "outputs": [],
   "source": [
    "scale_data = X.drop(['popular','city_부산광역시','city_서울특별시'],axis=1)"
   ]
  },
  {
   "cell_type": "code",
   "execution_count": 7,
   "id": "16ecc46f-947f-46de-a1c4-807ff30255b4",
   "metadata": {},
   "outputs": [],
   "source": [
    "rob = RobustScaler()"
   ]
  },
  {
   "cell_type": "code",
   "execution_count": 8,
   "id": "73568b09-0d7e-41fc-93a4-1e8cbf03131c",
   "metadata": {},
   "outputs": [
    {
     "data": {
      "text/plain": [
       "RobustScaler()"
      ]
     },
     "execution_count": 8,
     "metadata": {},
     "output_type": "execute_result"
    }
   ],
   "source": [
    "rob.fit(scale_data)"
   ]
  },
  {
   "cell_type": "code",
   "execution_count": 9,
   "id": "08d1a041-14da-4dbe-83bc-d64af3920505",
   "metadata": {},
   "outputs": [],
   "source": [
    "scaled_rob = rob.transform(scale_data)"
   ]
  },
  {
   "cell_type": "code",
   "execution_count": 10,
   "id": "cfee8cf9-7e82-4040-8cab-065b57ad61b6",
   "metadata": {},
   "outputs": [],
   "source": [
    "scaled_X = pd.DataFrame(scaled_rob,columns=scale_data.columns)"
   ]
  },
  {
   "cell_type": "code",
   "execution_count": 11,
   "id": "61fe44ff-8a30-4014-b04f-effef9539966",
   "metadata": {},
   "outputs": [],
   "source": [
    "add_X = X[['popular','city_부산광역시','city_서울특별시']]"
   ]
  },
  {
   "cell_type": "code",
   "execution_count": 12,
   "id": "a85b254c-cf6c-4242-9542-b2f6e6245bde",
   "metadata": {},
   "outputs": [],
   "source": [
    "X = pd.concat([scaled_X,add_X],axis=1)"
   ]
  },
  {
   "cell_type": "code",
   "execution_count": 13,
   "id": "eb6603e3-129b-446f-9aee-9bb419f24b14",
   "metadata": {},
   "outputs": [],
   "source": [
    "X_train, X_test, y_train, y_test = train_test_split(X,y,test_size = 0.3, random_state=123)"
   ]
  },
  {
   "cell_type": "code",
   "execution_count": 14,
   "id": "226293f4-d30f-48e0-a24d-833f8082cefa",
   "metadata": {},
   "outputs": [],
   "source": [
    "lgbm = lgb.LGBMRegressor()\n",
    "dt = DecisionTreeRegressor()\n",
    "xgb = XGBRegressor()"
   ]
  },
  {
   "cell_type": "code",
   "execution_count": 16,
   "id": "5a26bca7-f194-41fd-8353-fff712e83319",
   "metadata": {},
   "outputs": [
    {
     "data": {
      "text/plain": [
       "LGBMRegressor()"
      ]
     },
     "execution_count": 16,
     "metadata": {},
     "output_type": "execute_result"
    }
   ],
   "source": [
    "lgbm.fit(X_train,y_train)"
   ]
  },
  {
   "cell_type": "code",
   "execution_count": 15,
   "id": "489cd9a6-b523-46e3-b5e5-850fcab57859",
   "metadata": {},
   "outputs": [
    {
     "data": {
      "text/plain": [
       "DecisionTreeRegressor()"
      ]
     },
     "execution_count": 15,
     "metadata": {},
     "output_type": "execute_result"
    }
   ],
   "source": [
    "dt.fit(X_train,y_train)"
   ]
  },
  {
   "cell_type": "code",
   "execution_count": 16,
   "id": "eb9e0312-4fc2-47e1-b8c3-bd7808f63a87",
   "metadata": {},
   "outputs": [
    {
     "data": {
      "text/plain": [
       "XGBRegressor(base_score=0.5, booster='gbtree', colsample_bylevel=1,\n",
       "             colsample_bynode=1, colsample_bytree=1, gamma=0, gpu_id=-1,\n",
       "             importance_type='gain', interaction_constraints='',\n",
       "             learning_rate=0.300000012, max_delta_step=0, max_depth=6,\n",
       "             min_child_weight=1, missing=nan, monotone_constraints='()',\n",
       "             n_estimators=100, n_jobs=12, num_parallel_tree=1, random_state=0,\n",
       "             reg_alpha=0, reg_lambda=1, scale_pos_weight=1, subsample=1,\n",
       "             tree_method='exact', validate_parameters=1, verbosity=None)"
      ]
     },
     "execution_count": 16,
     "metadata": {},
     "output_type": "execute_result"
    }
   ],
   "source": [
    "xgb.fit(X_train,y_train)"
   ]
  },
  {
   "cell_type": "code",
   "execution_count": 17,
   "id": "ffd25a94-68fa-4e41-9d9a-becb4abe3402",
   "metadata": {},
   "outputs": [],
   "source": [
    "def score(x):\n",
    "    r2 = r2_score((y_test),x.predict(X_test))\n",
    "    train_r2 = r2_score(y_train,x.predict(X_train))\n",
    "    mse = mean_squared_error(y_test,x.predict(X_test))\n",
    "    train_mse = mean_squared_error(y_train,x.predict(X_train))\n",
    "    mae = mean_absolute_error(y_test,x.predict(X_test))\n",
    "    train_mae = mean_absolute_error(y_train,x.predict(X_train))\n",
    "    rmse = sqrt(mse)\n",
    "    train_rmse = sqrt(train_mse)\n",
    "    print('r2 = {}'.format(r2))\n",
    "    print('train_r2 = {}'.format(train_r2))\n",
    "    print('mse = {}'.format(mse))\n",
    "    print('train_mse = {}'.format(train_mse))\n",
    "    print('mae = {}'.format(mae))\n",
    "    print('train_mae = {}'.format(train_mae))\n",
    "    print('rmse = {}'.format(rmse))\n",
    "    print('train_rmse = {}'.format(train_rmse))"
   ]
  },
  {
   "cell_type": "code",
   "execution_count": 36,
   "id": "829cded7-9d91-472a-ab96-aaaf3c763554",
   "metadata": {},
   "outputs": [
    {
     "name": "stdout",
     "output_type": "stream",
     "text": [
      "r2 = 0.869066837608059\n",
      "train_r2 = 0.8709293011102226\n",
      "mse = 126644574.0380867\n",
      "train_mse = 124015290.44561008\n",
      "mae = 7427.660013144863\n",
      "train_mae = 7397.948427828306\n",
      "rmse = 11253.647143841266\n",
      "train_rmse = 11136.215265771854\n"
     ]
    },
    {
     "data": {
      "text/plain": [
       "(0.869066837608059, 126644574.0380867, 7427.660013144863, 11253.647143841266)"
      ]
     },
     "execution_count": 36,
     "metadata": {},
     "output_type": "execute_result"
    }
   ],
   "source": [
    "score(lgbm)"
   ]
  },
  {
   "cell_type": "code",
   "execution_count": 18,
   "id": "3d6357fd-8e6b-4d40-928e-2b32d9e8bfc8",
   "metadata": {},
   "outputs": [
    {
     "name": "stdout",
     "output_type": "stream",
     "text": [
      "r2 = 0.9660867433673405\n",
      "train_r2 = 0.9973535561552259\n",
      "mse = 32802460.90467789\n",
      "train_mse = 2542788.602531155\n",
      "mae = 2666.136237077679\n",
      "train_mae = 572.1372318705346\n",
      "rmse = 5727.343267578598\n",
      "train_rmse = 1594.6123674834444\n"
     ]
    }
   ],
   "source": [
    "score(dt)"
   ]
  },
  {
   "cell_type": "code",
   "execution_count": 19,
   "id": "10a98922-6c91-4415-b388-87051e3dbb24",
   "metadata": {},
   "outputs": [
    {
     "name": "stdout",
     "output_type": "stream",
     "text": [
      "r2 = 0.9171065749225638\n",
      "train_r2 = 0.9204241461230375\n",
      "mse = 80178331.58313859\n",
      "train_mse = 76459046.98661666\n",
      "mae = 5891.290134495779\n",
      "train_mae = 5827.712018540566\n",
      "rmse = 8954.235399135907\n",
      "train_rmse = 8744.086400912141\n"
     ]
    }
   ],
   "source": [
    "score(xgb)"
   ]
  },
  {
   "cell_type": "code",
   "execution_count": 176,
   "id": "71766d7d",
   "metadata": {},
   "outputs": [],
   "source": [
    "n_features = X.shape[1]"
   ]
  },
  {
   "cell_type": "code",
   "execution_count": 177,
   "id": "0e96bfc7",
   "metadata": {},
   "outputs": [],
   "source": [
    "df = pd.DataFrame({'col': X.columns, 'score': rfr.feature_importances_})\n",
    "df = df.sort_values(by = 'score')"
   ]
  },
  {
   "cell_type": "code",
   "execution_count": 178,
   "id": "f4c1bbce",
   "metadata": {},
   "outputs": [
    {
     "data": {
      "image/png": "[encoded data removed]",
      "text/plain": [
       "<Figure size 432x288 with 1 Axes>"
      ]
     },
     "metadata": {
      "needs_background": "light"
     },
     "output_type": "display_data"
    }
   ],
   "source": [
    "import matplotlib.pyplot as plt\n",
    "\n",
    "plt.barh(range(n_features), df['score'], align='center')\n",
    "plt.yticks(np.arange(n_features), df['col'])\n",
    "plt.xlabel(\"feature importances\")\n",
    "plt.xlim(0, 0.2)\n",
    "plt.show()"
   ]
  },
  {
   "cell_type": "code",
   "execution_count": 53,
   "id": "f911179e",
   "metadata": {},
   "outputs": [],
   "source": [
    "import eli5\n",
    "from eli5.sklearn import PermutationImportance"
   ]
  },
  {
   "cell_type": "code",
   "execution_count": 54,
   "id": "fab79000",
   "metadata": {},
   "outputs": [
    {
     "data": {
      "text/plain": [
       "PermutationImportance(estimator=RandomForestRegressor(), random_state=100)"
      ]
     },
     "execution_count": 54,
     "metadata": {},
     "output_type": "execute_result"
    }
   ],
   "source": [
    "perm = PermutationImportance(rfr, random_state = 100)\n",
    "perm.fit(X_test,y_test)"
   ]
  },
  {
   "cell_type": "code",
   "execution_count": 55,
   "id": "3594da8d",
   "metadata": {},
   "outputs": [
    {
     "data": {
      "text/html": [
       "\n",
       "    <style>\n",
       "    table.eli5-weights tr:hover {\n",
       "        filter: brightness(85%);\n",
       "    }\n",
       "</style>\n",
       "\n",
       "\n",
       "\n",
       "    \n",
       "\n",
       "    \n",
       "\n",
       "    \n",
       "\n",
       "    \n",
       "\n",
       "    \n",
       "\n",
       "    \n",
       "\n",
       "\n",
       "    \n",
       "\n",
       "    \n",
       "\n",
       "    \n",
       "\n",
       "    \n",
       "\n",
       "    \n",
       "\n",
       "    \n",
       "\n",
       "\n",
       "    \n",
       "\n",
       "    \n",
       "\n",
       "    \n",
       "\n",
       "    \n",
       "\n",
       "    \n",
       "        <table class=\"eli5-weights eli5-feature-importances\" style=\"border-collapse: collapse; border: none; margin-top: 0em; table-layout: auto;\">\n",
       "    <thead>\n",
       "    <tr style=\"border: none;\">\n",
       "        <th style=\"padding: 0 1em 0 0.5em; text-align: right; border: none;\">Weight</th>\n",
       "        <th style=\"padding: 0 0.5em 0 0.5em; text-align: left; border: none;\">Feature</th>\n",
       "    </tr>\n",
       "    </thead>\n",
       "    <tbody>\n",
       "    \n",
       "        <tr style=\"background-color: hsl(120, 100.00%, 80.00%); border: none;\">\n",
       "            <td style=\"padding: 0 1em 0 0.5em; text-align: right; border: none;\">\n",
       "                0.8743\n",
       "                \n",
       "                    &plusmn; 0.0074\n",
       "                \n",
       "            </td>\n",
       "            <td style=\"padding: 0 0.5em 0 0.5em; text-align: left; border: none;\">\n",
       "                city_Seoul\n",
       "            </td>\n",
       "        </tr>\n",
       "    \n",
       "        <tr style=\"background-color: hsl(120, 100.00%, 90.50%); border: none;\">\n",
       "            <td style=\"padding: 0 1em 0 0.5em; text-align: right; border: none;\">\n",
       "                0.3020\n",
       "                \n",
       "                    &plusmn; 0.0019\n",
       "                \n",
       "            </td>\n",
       "            <td style=\"padding: 0 0.5em 0 0.5em; text-align: left; border: none;\">\n",
       "                years\n",
       "            </td>\n",
       "        </tr>\n",
       "    \n",
       "        <tr style=\"background-color: hsl(120, 100.00%, 91.33%); border: none;\">\n",
       "            <td style=\"padding: 0 1em 0 0.5em; text-align: right; border: none;\">\n",
       "                0.2647\n",
       "                \n",
       "                    &plusmn; 0.0013\n",
       "                \n",
       "            </td>\n",
       "            <td style=\"padding: 0 0.5em 0 0.5em; text-align: left; border: none;\">\n",
       "                elementary_num\n",
       "            </td>\n",
       "        </tr>\n",
       "    \n",
       "        <tr style=\"background-color: hsl(120, 100.00%, 91.41%); border: none;\">\n",
       "            <td style=\"padding: 0 1em 0 0.5em; text-align: right; border: none;\">\n",
       "                0.2616\n",
       "                \n",
       "                    &plusmn; 0.0016\n",
       "                \n",
       "            </td>\n",
       "            <td style=\"padding: 0 0.5em 0 0.5em; text-align: left; border: none;\">\n",
       "                sub_dist\n",
       "            </td>\n",
       "        </tr>\n",
       "    \n",
       "        <tr style=\"background-color: hsl(120, 100.00%, 92.08%); border: none;\">\n",
       "            <td style=\"padding: 0 1em 0 0.5em; text-align: right; border: none;\">\n",
       "                0.2329\n",
       "                \n",
       "                    &plusmn; 0.0018\n",
       "                \n",
       "            </td>\n",
       "            <td style=\"padding: 0 0.5em 0 0.5em; text-align: left; border: none;\">\n",
       "                park_dist\n",
       "            </td>\n",
       "        </tr>\n",
       "    \n",
       "        <tr style=\"background-color: hsl(120, 100.00%, 93.44%); border: none;\">\n",
       "            <td style=\"padding: 0 1em 0 0.5em; text-align: right; border: none;\">\n",
       "                0.1778\n",
       "                \n",
       "                    &plusmn; 0.0007\n",
       "                \n",
       "            </td>\n",
       "            <td style=\"padding: 0 0.5em 0 0.5em; text-align: left; border: none;\">\n",
       "                high_dist\n",
       "            </td>\n",
       "        </tr>\n",
       "    \n",
       "        <tr style=\"background-color: hsl(120, 100.00%, 93.68%); border: none;\">\n",
       "            <td style=\"padding: 0 1em 0 0.5em; text-align: right; border: none;\">\n",
       "                0.1686\n",
       "                \n",
       "                    &plusmn; 0.0014\n",
       "                \n",
       "            </td>\n",
       "            <td style=\"padding: 0 0.5em 0 0.5em; text-align: left; border: none;\">\n",
       "                brand_apt\n",
       "            </td>\n",
       "        </tr>\n",
       "    \n",
       "        <tr style=\"background-color: hsl(120, 100.00%, 94.27%); border: none;\">\n",
       "            <td style=\"padding: 0 1em 0 0.5em; text-align: right; border: none;\">\n",
       "                0.1466\n",
       "                \n",
       "                    &plusmn; 0.0013\n",
       "                \n",
       "            </td>\n",
       "            <td style=\"padding: 0 0.5em 0 0.5em; text-align: left; border: none;\">\n",
       "                middle_dist\n",
       "            </td>\n",
       "        </tr>\n",
       "    \n",
       "        <tr style=\"background-color: hsl(120, 100.00%, 94.87%); border: none;\">\n",
       "            <td style=\"padding: 0 1em 0 0.5em; text-align: right; border: none;\">\n",
       "                0.1251\n",
       "                \n",
       "                    &plusmn; 0.0006\n",
       "                \n",
       "            </td>\n",
       "            <td style=\"padding: 0 0.5em 0 0.5em; text-align: left; border: none;\">\n",
       "                elementary_dist\n",
       "            </td>\n",
       "        </tr>\n",
       "    \n",
       "        <tr style=\"background-color: hsl(120, 100.00%, 94.96%); border: none;\">\n",
       "            <td style=\"padding: 0 1em 0 0.5em; text-align: right; border: none;\">\n",
       "                0.1220\n",
       "                \n",
       "                    &plusmn; 0.0006\n",
       "                \n",
       "            </td>\n",
       "            <td style=\"padding: 0 0.5em 0 0.5em; text-align: left; border: none;\">\n",
       "                park_num\n",
       "            </td>\n",
       "        </tr>\n",
       "    \n",
       "        <tr style=\"background-color: hsl(120, 100.00%, 95.69%); border: none;\">\n",
       "            <td style=\"padding: 0 1em 0 0.5em; text-align: right; border: none;\">\n",
       "                0.0976\n",
       "                \n",
       "                    &plusmn; 0.0023\n",
       "                \n",
       "            </td>\n",
       "            <td style=\"padding: 0 0.5em 0 0.5em; text-align: left; border: none;\">\n",
       "                high_num\n",
       "            </td>\n",
       "        </tr>\n",
       "    \n",
       "        <tr style=\"background-color: hsl(120, 100.00%, 97.81%); border: none;\">\n",
       "            <td style=\"padding: 0 1em 0 0.5em; text-align: right; border: none;\">\n",
       "                0.0371\n",
       "                \n",
       "                    &plusmn; 0.0006\n",
       "                \n",
       "            </td>\n",
       "            <td style=\"padding: 0 0.5em 0 0.5em; text-align: left; border: none;\">\n",
       "                middle_num\n",
       "            </td>\n",
       "        </tr>\n",
       "    \n",
       "        <tr style=\"background-color: hsl(120, 100.00%, 98.49%); border: none;\">\n",
       "            <td style=\"padding: 0 1em 0 0.5em; text-align: right; border: none;\">\n",
       "                0.0218\n",
       "                \n",
       "                    &plusmn; 0.0003\n",
       "                \n",
       "            </td>\n",
       "            <td style=\"padding: 0 0.5em 0 0.5em; text-align: left; border: none;\">\n",
       "                sub_num\n",
       "            </td>\n",
       "        </tr>\n",
       "    \n",
       "        <tr style=\"background-color: hsl(120, 100.00%, 98.57%); border: none;\">\n",
       "            <td style=\"padding: 0 1em 0 0.5em; text-align: right; border: none;\">\n",
       "                0.0202\n",
       "                \n",
       "                    &plusmn; 0.0005\n",
       "                \n",
       "            </td>\n",
       "            <td style=\"padding: 0 0.5em 0 0.5em; text-align: left; border: none;\">\n",
       "                floor\n",
       "            </td>\n",
       "        </tr>\n",
       "    \n",
       "        <tr style=\"background-color: hsl(120, 100.00%, 99.74%); border: none;\">\n",
       "            <td style=\"padding: 0 1em 0 0.5em; text-align: right; border: none;\">\n",
       "                0.0018\n",
       "                \n",
       "                    &plusmn; 0.0001\n",
       "                \n",
       "            </td>\n",
       "            <td style=\"padding: 0 0.5em 0 0.5em; text-align: left; border: none;\">\n",
       "                popular\n",
       "            </td>\n",
       "        </tr>\n",
       "    \n",
       "        <tr style=\"background-color: hsl(120, 100.00%, 99.86%); border: none;\">\n",
       "            <td style=\"padding: 0 1em 0 0.5em; text-align: right; border: none;\">\n",
       "                0.0007\n",
       "                \n",
       "                    &plusmn; 0.0000\n",
       "                \n",
       "            </td>\n",
       "            <td style=\"padding: 0 0.5em 0 0.5em; text-align: left; border: none;\">\n",
       "                city_Busan\n",
       "            </td>\n",
       "        </tr>\n",
       "    \n",
       "    \n",
       "    </tbody>\n",
       "</table>\n",
       "    \n",
       "\n",
       "    \n",
       "\n",
       "\n",
       "    \n",
       "\n",
       "    \n",
       "\n",
       "    \n",
       "\n",
       "    \n",
       "\n",
       "    \n",
       "\n",
       "    \n",
       "\n",
       "\n",
       "\n"
      ],
      "text/plain": [
       "<IPython.core.display.HTML object>"
      ]
     },
     "execution_count": 55,
     "metadata": {},
     "output_type": "execute_result"
    }
   ],
   "source": [
    "eli5.show_weights(perm, feature_names = X_test.columns.tolist())"
   ]
  },
  {
   "cell_type": "code",
   "execution_count": null,
   "id": "23cb1212",
   "metadata": {},
   "outputs": [],
   "source": []
  },
  {
   "cell_type": "code",
   "execution_count": 25,
   "id": "a4bcb253-b575-4d51-ae23-b59888c7d41c",
   "metadata": {
    "tags": []
   },
   "outputs": [],
   "source": [
    "pred = xgb.predict(test_data)"
   ]
  },
  {
   "cell_type": "code",
   "execution_count": 28,
   "id": "53051292-4bdb-46bc-bc0f-17f55a0ff783",
   "metadata": {},
   "outputs": [],
   "source": [
    "test['transaction_real_price'] = pred"
   ]
  },
  {
   "cell_type": "code",
   "execution_count": 30,
   "id": "9b30e7e9-c4ea-4d29-909f-31778d66e3c5",
   "metadata": {},
   "outputs": [],
   "source": [
    "result_xgb = test[['transaction_id','transaction_real_price']]"
   ]
  },
  {
   "cell_type": "code",
   "execution_count": 31,
   "id": "92a5cbab-4880-4ca7-8c9a-e7c67adfb1b1",
   "metadata": {},
   "outputs": [
    {
     "data": {
      "text/html": [
       "<div>\n",
       "<style scoped>\n",
       "    .dataframe tbody tr th:only-of-type {\n",
       "        vertical-align: middle;\n",
       "    }\n",
       "\n",
       "    .dataframe tbody tr th {\n",
       "        vertical-align: top;\n",
       "    }\n",
       "\n",
       "    .dataframe thead th {\n",
       "        text-align: right;\n",
       "    }\n",
       "</style>\n",
       "<table border=\"1\" class=\"dataframe\">\n",
       "  <thead>\n",
       "    <tr style=\"text-align: right;\">\n",
       "      <th></th>\n",
       "      <th>transaction_id</th>\n",
       "      <th>transaction_real_price</th>\n",
       "    </tr>\n",
       "  </thead>\n",
       "  <tbody>\n",
       "    <tr>\n",
       "      <th>0</th>\n",
       "      <td>1145756</td>\n",
       "      <td>30296.783203</td>\n",
       "    </tr>\n",
       "    <tr>\n",
       "      <th>1</th>\n",
       "      <td>1198704</td>\n",
       "      <td>10164.674805</td>\n",
       "    </tr>\n",
       "    <tr>\n",
       "      <th>2</th>\n",
       "      <td>1222384</td>\n",
       "      <td>9035.934570</td>\n",
       "    </tr>\n",
       "  </tbody>\n",
       "</table>\n",
       "</div>"
      ],
      "text/plain": [
       "   transaction_id  transaction_real_price\n",
       "0         1145756            30296.783203\n",
       "1         1198704            10164.674805\n",
       "2         1222384             9035.934570"
      ]
     },
     "execution_count": 31,
     "metadata": {},
     "output_type": "execute_result"
    }
   ],
   "source": [
    "result_xgb.head(3)"
   ]
  },
  {
   "cell_type": "code",
   "execution_count": 32,
   "id": "4c1148a0-653a-4f0b-9a60-dbeba791bacc",
   "metadata": {},
   "outputs": [],
   "source": [
    "result_xgb.to_csv('result_xgb.csv',index=False) ## 결과파일"
   ]
  },
  {
   "cell_type": "code",
   "execution_count": null,
   "id": "5c6d1919-1eaf-4aa5-9d55-742d6ef7f0a7",
   "metadata": {},
   "outputs": [],
   "source": []
  }
 ],
 "metadata": {
  "kernelspec": {
   "display_name": "Python 3 (ipykernel)",
   "language": "python",
   "name": "python3"
  },
  "language_info": {
   "codemirror_mode": {
    "name": "ipython",
    "version": 3
   },
   "file_extension": ".py",
   "mimetype": "text/x-python",
   "name": "python",
   "nbconvert_exporter": "python",
   "pygments_lexer": "ipython3",
   "version": "3.9.7"
  }
 },
 "nbformat": 4,
 "nbformat_minor": 5
}
